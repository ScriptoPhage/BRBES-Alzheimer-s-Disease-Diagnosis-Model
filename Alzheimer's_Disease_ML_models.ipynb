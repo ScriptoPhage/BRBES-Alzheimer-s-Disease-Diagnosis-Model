{
  "nbformat": 4,
  "nbformat_minor": 0,
  "metadata": {
    "colab": {
      "name": "Alzheimer's_Disease_ML_models.ipynb",
      "provenance": [],
      "collapsed_sections": [
        "KksrFUl8R5r7",
        "cdM_8tF4R4Bw",
        "zxzwyiHQRqzB",
        "vN8DBYTyXzum",
        "Sx6dQkXFeyfU",
        "lWfhoVL-TCzW"
      ]
    },
    "kernelspec": {
      "name": "python3",
      "display_name": "Python 3"
    },
    "language_info": {
      "name": "python"
    }
  },
  "cells": [
    {
      "cell_type": "markdown",
      "source": [
        "# **IMPORT MODULES**"
      ],
      "metadata": {
        "id": "KksrFUl8R5r7"
      }
    },
    {
      "cell_type": "code",
      "execution_count": null,
      "metadata": {
        "id": "TS-ZAKFTsupd"
      },
      "outputs": [],
      "source": [
        "from sklearn import datasets, svm, metrics\n",
        "import csv, os\n",
        "import numpy as np\n",
        "import matplotlib.pyplot as plt\n",
        "from sklearn.naive_bayes import GaussianNB\n",
        "from sklearn.neighbors import KNeighborsClassifier\n",
        "from sklearn.ensemble import RandomForestClassifier\n"
      ]
    },
    {
      "cell_type": "markdown",
      "source": [
        "# **CONNECT TO GOOGLE DRIVE**"
      ],
      "metadata": {
        "id": "cdM_8tF4R4Bw"
      }
    },
    {
      "cell_type": "code",
      "metadata": {
        "colab": {
          "base_uri": "https://localhost:8080/"
        },
        "id": "ZTEv6un9cVn0",
        "outputId": "54a773b0-830e-452e-ef34-1eb6cd0fd3f9"
      },
      "source": [
        "from google.colab import drive\n",
        "drive.mount('/content/drive')"
      ],
      "execution_count": null,
      "outputs": [
        {
          "output_type": "stream",
          "name": "stdout",
          "text": [
            "Mounted at /content/drive\n"
          ]
        }
      ]
    },
    {
      "cell_type": "markdown",
      "source": [
        "# **MULTI CLASS CONFUSION MATRIX PROCESSOR**"
      ],
      "metadata": {
        "id": "zxzwyiHQRqzB"
      }
    },
    {
      "cell_type": "code",
      "source": [
        "def confusion_matrix_processor(matrix):\n",
        "  first_tp, first_fp, first_tn, first_fn = matrix[0,0] , matrix[0,1] + matrix[0,2], matrix[1,1,] + matrix[1,2] + matrix[2,1] + matrix[2,2], matrix[1,0] + matrix[2,0]\n",
        "  second_tp, second_fp, second_tn, second_fn = matrix[1,1] , matrix[1,0] + matrix[1,2], matrix[0,0] + matrix[0,2] + matrix[2,0] + matrix[2,2], matrix[0,1] + matrix[2,1]\n",
        "  third_tp, third_fp, third_tn, third_fn = matrix[2,2] , matrix[2,0] + matrix[2,1], matrix[0,0] + matrix[0,1] + matrix[1,0] + matrix[1,1], matrix[0,2] + matrix[1,2]\n",
        "\n",
        "  return [first_tp, first_fp, first_tn, first_fn], [second_tp, second_fp, second_tn, second_fn], [third_tp, third_fp, third_tn, third_fn]"
      ],
      "metadata": {
        "id": "yRyIWsDBodpT"
      },
      "execution_count": null,
      "outputs": []
    },
    {
      "cell_type": "markdown",
      "source": [
        "# **MULTI CLASS CONFUSION MATRIX PROCESSOR**\n",
        "*separate for each class*"
      ],
      "metadata": {
        "id": "5BSn1h8tEVrF"
      }
    },
    {
      "cell_type": "code",
      "source": [
        "def detailed_confusion_matrix_processor(matrix):\n",
        "  # Confusion matrix processing\n",
        "  confusion_matrix = metrics.confusion_matrix(y_test, prediction)\n",
        "  fp = confusion_matrix.sum(axis=0) - np.diag(confusion_matrix) \n",
        "  fn = confusion_matrix.sum(axis=1) - np.diag(confusion_matrix)\n",
        "  tp = np.diag(confusion_matrix)\n",
        "  tn = confusion_matrix.sum() - (fp + fn + tp)\n",
        "\n",
        "  # Overall accuracy for each class\n",
        "  accuracy = (tp+tn)/(tp+fp+fn+tn)\n",
        "  # Sensitivity, hit rate, recall, or true positive rate\n",
        "  tpr = tp/(tp+fn)\n",
        "  # Specificity or true negative rate\n",
        "  tnr = tn/(tn+fp) \n",
        "  # Fall out or false positive rate\n",
        "  fpr = fp/(fp+tn)\n",
        "  # False negative rate\n",
        "  fnr = fn/(tp+fn)\n",
        "  # Precision or positive predictive value\n",
        "  precision = tp/(tp+fp)\n",
        "  # Negative predictive value\n",
        "  npv = tn/(tn+fn)\n",
        "  # False discovery rate\n",
        "  fdr = fp/(tp+fp)\n",
        "\n",
        "  print(accuracy, tpr, tnr, fpr, fnr, precision, npv, fdr)"
      ],
      "metadata": {
        "id": "SJs1pUsMEjoN"
      },
      "execution_count": null,
      "outputs": []
    },
    {
      "cell_type": "markdown",
      "source": [
        "# **DIRECTORY CHECKER**"
      ],
      "metadata": {
        "id": "VoAOsNLbH8rB"
      }
    },
    {
      "cell_type": "code",
      "source": [
        "def check_dir(path):\n",
        "  if os.path.isdir(path) == False:\n",
        "    os.makedirs(path)"
      ],
      "metadata": {
        "id": "vFaDrjbiIAyy"
      },
      "execution_count": null,
      "outputs": []
    },
    {
      "cell_type": "markdown",
      "source": [
        "# **GENERATE CONFUSION MATRIX**"
      ],
      "metadata": {
        "id": "02nV834kxpoc"
      }
    },
    {
      "cell_type": "code",
      "source": [
        "# Before executing this cell please excute the cells named \"Import Modules\" and \"Connect to Google Drive\"\n",
        "def generate_confusion_matrix(disease):\n",
        "  # modify where the folds are in your drive, fold dir should have test_1.csv and Pred_1.csv and so on\n",
        "  # in this code segment, Dataset is the root folder in my google drive\n",
        "  #folds_dir = \"/content/drive/MyDrive/Dataset/Alzheimer's and Schizophrenia/Dataset/\" + disease + \"/Folds/\"\n",
        "  folds_dir = \"/content/drive/MyDrive/AD and SZ/\" + disease + \"/Folds/\"\n",
        "\n",
        "  # loops through files 1 to 5\n",
        "  for i in range(1,6):\n",
        "    # you can change test and Pred according to your file initials\n",
        "    y_test_csv = folds_dir + \"test_\" + str(i) + \".csv\"\n",
        "    y_pred_csv = folds_dir + \"Pred_\" + str(i) + \".csv\"\n",
        "\n",
        "    y_test = []\n",
        "    y_pred = []\n",
        "\n",
        "    # reading file into lists\n",
        "    with open(y_test_csv, newline='') as f:\n",
        "      reader = csv.reader(f)\n",
        "    \n",
        "      for row in reader:\n",
        "       y_test.append(row[-1])\n",
        "\n",
        "    with open(y_pred_csv, newline='') as f:\n",
        "      reader = csv.reader(f)\n",
        "      \n",
        "      for row in reader:\n",
        "        y_pred.append(row[0])\n",
        "\n",
        "    confusion_matrix = metrics.confusion_matrix(y_test, y_pred)\n",
        "\n",
        "    print(\"--------------------- \",\"Fold \", str(i), \" ---------------------\")\n",
        "    print(confusion_matrix)\n",
        "    print(\"-----------------------------------------------------\")\n",
        "\n",
        "    disp = metrics.ConfusionMatrixDisplay(confusion_matrix=confusion_matrix)\n",
        "    disp.plot()\n",
        "    plt.show()\n",
        "\n",
        "generate_confusion_matrix(\"AD\")"
      ],
      "metadata": {
        "id": "z_iuVGYExtuv"
      },
      "execution_count": null,
      "outputs": []
    },
    {
      "cell_type": "markdown",
      "source": [
        "#Model-free Metrics"
      ],
      "metadata": {
        "id": "snulj9egZxiA"
      }
    },
    {
      "cell_type": "code",
      "source": [
        "i = 1\n",
        "folds_dir = \"/content/drive/MyDrive/AD and SZ/AD/Folds/\"\n",
        "y_test_csv = folds_dir + \"test_\" + str(i) + \".csv\"\n",
        "y_pred_csv = folds_dir + \"Pred_\" + str(i) + \".csv\"\n",
        "\n",
        "y_test = []\n",
        "y_pred = []\n",
        "\n",
        "# reading file into lists\n",
        "with open(y_test_csv, newline='') as f:\n",
        "  reader = csv.reader(f)\n",
        "  for row in reader:\n",
        "    y_test.append(row[-1])\n",
        "with open(y_pred_csv, newline='') as f:\n",
        "  reader = csv.reader(f)\n",
        "  for row in reader:\n",
        "    y_pred.append(row[0])\n",
        "accuracy = metrics.accuracy_score(y_test, y_pred)\n",
        "recall = metrics.recall_score(y_test, y_pred, average=\"macro\")\n",
        "precision = metrics.precision_score(y_test, y_pred, average=\"macro\")\n",
        "#roc_auc_score = metrics.roc_auc_score(y_test, classifier.p, multi_class=\"ovr\")\n",
        "f1 = metrics.f1_score(y_test, y_pred, average='weighted')\n",
        "\n",
        "# Specificity for Multiclass\n",
        "first_cm, second_cm, third_cm = confusion_matrix_processor(metrics.confusion_matrix(y_test, y_pred))\n",
        "first_specificity = first_cm[1] / (first_cm[1] + first_cm[2])\n",
        "second_specificity = second_cm[1] / (second_cm[1] + second_cm[2])\n",
        "third_specificity = third_cm[1] / (third_cm[1] + third_cm[2])\n",
        "\n",
        "print(\"----------------------------\",\"Fold \", str(i), \"---------------------------------------\")\n",
        "print('Accuracy: ', \"%.2f\" % (accuracy*100), \"%\")\n",
        "print(\"Recall: \", \"%.2f\" % (recall*100), \"%\")\n",
        "print(\"Precision: \", \"%.2f\" % (precision*100), \"%\")\n",
        "#print(\"ROC AUC Score: \", \"%.2f\" % (roc_auc_score*100), \"%\")\n",
        "print('F1: ', \"%.2f\" % (f1*100), \"%\")\n",
        "print(\"First label Specificity: \", \"%.2f\" % (first_specificity*100), \"%\")\n",
        "print(\"Second label Specificity: \", \"%.2f\" % (second_specificity*100), \"%\")\n",
        "print(\"Third label Specificity: \", \"%.2f\" % (third_specificity*100), \"%\")\n",
        "print(\"-------------------------------------------------------------------------------------------------\")"
      ],
      "metadata": {
        "colab": {
          "base_uri": "https://localhost:8080/"
        },
        "id": "2gfR8UupYeQS",
        "outputId": "9d75408e-c196-4638-8dde-0adffca1e23f"
      },
      "execution_count": null,
      "outputs": [
        {
          "output_type": "stream",
          "name": "stdout",
          "text": [
            "---------------------------- Fold  1 ---------------------------------------\n",
            "Accuracy:  34.51 %\n",
            "Recall:  30.77 %\n",
            "Precision:  22.61 %\n",
            "F1:  29.13 %\n",
            "First label Specificity:  36.59 %\n",
            "Second label Specificity:  26.95 %\n",
            "Third label Specificity:  40.98 %\n",
            "-------------------------------------------------------------------------------------------------\n"
          ]
        }
      ]
    },
    {
      "cell_type": "markdown",
      "source": [
        "# **CSV WRITER**"
      ],
      "metadata": {
        "id": "vN8DBYTyXzum"
      }
    },
    {
      "cell_type": "code",
      "source": [
        "def csv_writer(disease, model_name, fold, data):\n",
        "  if disease == \"AD\":\n",
        "    header = [\"Test\", 0, 1, 2]\n",
        "  else:\n",
        "    header = [\"Test\", 0, 1]\n",
        "\n",
        "  result_dir = \"/content/drive/MyDrive/Results/\" + disease + \"/\" + model_name + \"/Fold \" + str(fold) + \"/\"\n",
        "  check_dir(result_dir)\n",
        "  fold_csv = result_dir + \"Fold_\" + str(fold) + \".csv\"\n",
        "\n",
        "  print(fold_csv)\n",
        "\n",
        "  with open(fold_csv, 'w', encoding='UTF8') as f:\n",
        "    writer = csv.writer(f)\n",
        "\n",
        "    # write the header\n",
        "    writer.writerow(header)\n",
        "\n",
        "    # write the data\n",
        "    for i, row in enumerate(data):\n",
        "      processed_row = []\n",
        "      processed_row.append(i+1)\n",
        "      \n",
        "      for value in row:\n",
        "        value = \"%.2f\" % (value*100) + \"%\"\n",
        "        processed_row.append(value)\n",
        "\n",
        "      writer.writerow(processed_row)\n",
        "    \n",
        "    f.close()"
      ],
      "metadata": {
        "id": "FZ5ohmkAXzMG"
      },
      "execution_count": 1,
      "outputs": []
    },
    {
      "cell_type": "markdown",
      "source": [
        "# **TEXT WRITER**"
      ],
      "metadata": {
        "id": "Sx6dQkXFeyfU"
      }
    },
    {
      "cell_type": "code",
      "source": [
        "def text_writer(disease, model_name, fold, accuracy, recall, precision, roc_auc_score, f1, specificities):\n",
        "  result_dir = \"/content/drive/MyDrive/Results/\" + disease + \"/\" + model_name + \"/Fold \" + str(fold) + \"/\"\n",
        "  check_dir(result_dir)\n",
        "  fold_txt = result_dir + \"Fold_\" + str(fold) + \".txt\"\n",
        "  labels = [\"First Label \", \"Second Label \", \"Third Label \"]\n",
        "  specificity = \"\"\n",
        "\n",
        "  if len(specificities) > 1:\n",
        "    for i, s in enumerate(specificities):\n",
        "      specificity = specificity + labels[i] + \"Specificity: \" + \"%.2f\" % (s*100) + \"%\\n\"\n",
        "  else:\n",
        "    specificity = \"Specificity: \" + \"%.2f\" % (specificities[0]*100) + \"%\\n\"\n",
        "\n",
        "  text_data = \"---------------------------- \" + model_name.upper() + \" (Without Age) - Fold \" + str(fold) + \" ---------------------------------------\\n\" + \"Accuracy: \" + \"%.2f\" % (accuracy*100) + \"%\\n\" + \"Recall: \" + \"%.2f\" % (recall*100)+ \"%\\n\" + \"Precision: \" + \"%.2f\" % (precision*100) + \"%\\n\" + \"ROC AUC Score: \" + \"%.2f\" % (roc_auc_score*100) + \"%\\n\" +'F1: ' + \"%.2f\" % (f1*100)+ \"%\\n\" + specificity + \"-------------------------------------------------------------------------------------------------\"\n",
        "\n",
        "  with open(fold_txt, 'w', encoding='UTF8') as f:\n",
        "    f.write(text_data)\n",
        "    f.close()"
      ],
      "metadata": {
        "id": "tpHfrux5e4Rx"
      },
      "execution_count": null,
      "outputs": []
    },
    {
      "cell_type": "markdown",
      "source": [
        "# **GAUSSIAN NAIVE BAYES MULTI CLASSIFIER**"
      ],
      "metadata": {
        "id": "pTYTAlCjuS_A"
      }
    },
    {
      "cell_type": "code",
      "source": [
        " # gnb = GaussianNB()\n",
        "  # gnb.fit(X_train, y_train)\n",
        "  # gnb_pred = gnb.predict(X_test)\n",
        "\n",
        "  # gnb_accuracy = metrics.accuracy_score(y_test, gnb_pred)\n",
        "  # gnb_recall = metrics.recall_score(y_test, gnb_pred, average=\"macro\")\n",
        "  # gnb_precision = metrics.precision_score(y_test, gnb_pred, average=\"macro\")\n",
        "  # gnb_roc_auc_score = metrics.roc_auc_score(y_test, gnb_pred, multi_class=\"ovr\")\n",
        "  # gnb_auc = metrics.auc(y_test, gnb_pred)\n",
        "  # gnb_roc_auc_score = metrics.roc_auc_score(y_test, gnb.predict_proba(X_test), multi_class=\"ovr\")\n",
        "  # gnb_f1 = metrics.f1_score(y_test, gnb_pred, average='weighted')\n",
        "\n",
        "  # Specificity for Multiclass\n",
        "  # first_cm, second_cm, third_cm = confusion_matrix_processor(metrics.confusion_matrix(y_test, gnb_pred))\n",
        "  # first_specificity = first_cm[1] / (first_cm[1] + first_cm[2])\n",
        "  # second_specificity = second_cm[1] / (second_cm[1] + second_cm[2])\n",
        "  # third_specificity = third_cm[1] / (third_cm[1] + third_cm[2])\n",
        "\n",
        "  # gnb_specificity = tn / (tn+fp)\n",
        "  # gnb_confusion_matrix_plot = metrics.plot_confusion_matrix(gnb, X_test, y_test)\n",
        "  # plt.show()\n",
        "  # print(\"----------------------------\",\"Fold \", str(i), \"---------------------------------------\")\n",
        "  # print('Accuracy (Gaussian Naive Bayes): ', \"%.2f\" % (gnb_accuracy*100))\n",
        "  # print(\"GNB Recall:\", gnb_recall*100)\n",
        "  # print(\"GNB Precision:\", gnb_precision*100)\n",
        "  # print(\"GNB Specificity: \", gnb_specificity)\n",
        "  # print(\"GNB First label Specificity: \", first_specificity)\n",
        "  # print(\"GNB Second label Specificity: \", second_specificity)\n",
        "  # print(\"GNB Third label Specificity: \", third_specificity)\n",
        "\n",
        "  # print(\"GNB AUC: \", gnb_roc_auc_score)\n",
        "  # print('F1 (Gaussian Naive Bayes): ', \"%.2f\" % (gnb_f1*100))\n",
        "  # print('Confusion Matrix: ')\n",
        "  # print(\"-------------------------------------------------------------------\")\n",
        "\n",
        "def gnb_multi_classifier(X_train, y_train, X_test, y_test, disease, fold):\n",
        "  classifier = GaussianNB().fit(X_train, y_train) # Gaussian Naive Bayes\n",
        "  prediction = classifier.predict(X_test)\n",
        "\n",
        "  accuracy = metrics.accuracy_score(y_test, prediction)\n",
        "  recall = metrics.recall_score(y_test, prediction, average=\"macro\")\n",
        "  precision = metrics.precision_score(y_test, prediction, average=\"macro\")\n",
        "  roc_auc_score = metrics.roc_auc_score(y_test, classifier.predict_proba(X_test), multi_class=\"ovr\")\n",
        "  f1 = metrics.f1_score(y_test, prediction, average='weighted')\n",
        "\n",
        "  # Specificity for Multiclass\n",
        "  first_cm, second_cm, third_cm = confusion_matrix_processor(metrics.confusion_matrix(y_test, prediction))\n",
        "  first_specificity = first_cm[1] / (first_cm[1] + first_cm[2])\n",
        "  second_specificity = second_cm[1] / (second_cm[1] + second_cm[2])\n",
        "  third_specificity = third_cm[1] / (third_cm[1] + third_cm[2])\n",
        "\n",
        "  text_writer(disease, fold, accuracy, recall, precision, roc_auc_score, f1, [first_specificity, second_specificity, third_specificity])\n",
        "  csv_writer(disease, fold, classifier.predict_proba(X_test))\n",
        "\n",
        "  confusion_matrix = metrics.plot_confusion_matrix(classifier, X_test, y_test)\n",
        "  plt.show()\n",
        "\n",
        "  print(\"----------------------------\",\"Gaussian Naive Bayes Multi Class (Without Age) - Fold \", str(i), \"---------------------------------------\")\n",
        "  print('Accuracy: ', \"%.2f\" % (accuracy*100), \"%\")\n",
        "  print(\"Recall: \", \"%.2f\" % (recall*100), \"%\")\n",
        "  print(\"Precision: \", \"%.2f\" % (precision*100), \"%\")\n",
        "  print(\"ROC AUC Score: \", \"%.2f\" % (roc_auc_score*100), \"%\")\n",
        "  print('F1: ', \"%.2f\" % (f1*100), \"%\")\n",
        "  print(\"First label Specificity: \", \"%.2f\" % (first_specificity*100), \"%\")\n",
        "  print(\"Second label Specificity: \", \"%.2f\" % (second_specificity*100), \"%\")\n",
        "  print(\"Third label Specificity: \", \"%.2f\" % (third_specificity*100), \"%\")\n",
        "  print(\"-------------------------------------------------------------------------------------------------\")"
      ],
      "metadata": {
        "id": "Hl_i508nua9R"
      },
      "execution_count": null,
      "outputs": []
    },
    {
      "cell_type": "markdown",
      "source": [
        "# **GAUSSIAN NAIVE BAYES BINARY CLASSIFIER**"
      ],
      "metadata": {
        "id": "rsbFHYcRz-Yc"
      }
    },
    {
      "cell_type": "code",
      "source": [
        "def gnb_binary_classifier(X_train, y_train, X_test, y_test, disease, fold):\n",
        "  classifier = GaussianNB().fit(X_train, y_train) # Gaussian Naive Bayes\n",
        "  prediction = classifier.predict(X_test)\n",
        "\n",
        "  accuracy = metrics.accuracy_score(y_test, prediction)\n",
        "  recall = metrics.recall_score(y_test, prediction, average=\"macro\")\n",
        "  precision = metrics.precision_score(y_test, prediction, average=\"macro\")\n",
        "  roc_auc_score = metrics.roc_auc_score(y_test, classifier.predict_proba(X_test)[:, 1])\n",
        "  f1 = metrics.f1_score(y_test, prediction, average='weighted')\n",
        "\n",
        "  # Specificity for binary class\n",
        "  tn, fp, fn, tp = metrics.confusion_matrix(y_test, prediction).ravel()\n",
        "  specificity = tn / (tn + fp)\n",
        "\n",
        "  text_writer(disease, fold, accuracy, recall, precision, roc_auc_score, f1, [specificity])\n",
        "  csv_writer(disease, fold, classifier.predict_proba(X_test))\n",
        "\n",
        "  confusion_matrix = metrics.plot_confusion_matrix(classifier, X_test, y_test)\n",
        "  plt.show()\n",
        "\n",
        "  print(\"----------------------------\",\"Gaussian Naive Bayes Binary CLass (Without Age) - Fold \", str(i), \"---------------------------------------\")\n",
        "  print('Accuracy: ', \"%.2f\" % (accuracy*100), \"%\")\n",
        "  print(\"Recall: \", \"%.2f\" % (recall*100), \"%\")\n",
        "  print(\"Precision: \", \"%.2f\" % (precision*100), \"%\")\n",
        "  print(\"ROC AUC Score: \", \"%.2f\" % (roc_auc_score*100), \"%\")\n",
        "  print('F1: ', \"%.2f\" % (f1*100), \"%\")\n",
        "  print(\"Specificity: \", \"%.2f\" % (specificity*100), \"%\")\n",
        "  print(\"-------------------------------------------------------------------------------------------------\")"
      ],
      "metadata": {
        "id": "o6O3A-2K0DKG"
      },
      "execution_count": null,
      "outputs": []
    },
    {
      "cell_type": "markdown",
      "source": [
        "# **KNN MULTI CLASSIFIER**"
      ],
      "metadata": {
        "id": "fXt6KeE082wM"
      }
    },
    {
      "cell_type": "code",
      "source": [
        "def knn_multi_classifier(X_train, y_train, X_test, y_test, disease, model_name, fold):\n",
        "  classifier = KNeighborsClassifier().fit(X_train, y_train) #KNN Classifier\n",
        "  prediction = classifier.predict(X_test)\n",
        "\n",
        "  accuracy = metrics.accuracy_score(y_test, prediction)\n",
        "  recall = metrics.recall_score(y_test, prediction, average=\"macro\")\n",
        "  precision = metrics.precision_score(y_test, prediction, average=\"macro\")\n",
        "  roc_auc_score = metrics.roc_auc_score(y_test, classifier.predict_proba(X_test), multi_class=\"ovr\")\n",
        "  f1 = metrics.f1_score(y_test, prediction, average='weighted')\n",
        "\n",
        "  # Specificity for Multiclass\n",
        "  first_cm, second_cm, third_cm = confusion_matrix_processor(metrics.confusion_matrix(y_test, prediction))\n",
        "  first_specificity = first_cm[1] / (first_cm[1] + first_cm[2])\n",
        "  second_specificity = second_cm[1] / (second_cm[1] + second_cm[2])\n",
        "  third_specificity = third_cm[1] / (third_cm[1] + third_cm[2])\n",
        "\n",
        "  text_writer(disease, model_name, fold, accuracy, recall, precision, roc_auc_score, f1, [first_specificity, second_specificity, third_specificity])\n",
        "  csv_writer(disease, model_name, fold, classifier.predict_proba(X_test))\n",
        "\n",
        "  confusion_matrix = metrics.plot_confusion_matrix(classifier, X_test, y_test)\n",
        "  plt.show()\n",
        "\n",
        "  print(\"----------------------------\",\"SVM RBF (Without Age) - Fold \", str(i), \"---------------------------------------\")\n",
        "  print('Accuracy: ', \"%.2f\" % (accuracy*100), \"%\")\n",
        "  print(\"Recall: \", \"%.2f\" % (recall*100), \"%\")\n",
        "  print(\"Precision: \", \"%.2f\" % (precision*100), \"%\")\n",
        "  print(\"ROC AUC Score: \", \"%.2f\" % (roc_auc_score*100), \"%\")\n",
        "  print('F1: ', \"%.2f\" % (f1*100), \"%\")\n",
        "  print(\"First label Specificity: \", \"%.2f\" % (first_specificity*100), \"%\")\n",
        "  print(\"Second label Specificity: \", \"%.2f\" % (second_specificity*100), \"%\")\n",
        "  print(\"Third label Specificity: \", \"%.2f\" % (third_specificity*100), \"%\")\n",
        "  print(\"-------------------------------------------------------------------------------------------------\")"
      ],
      "metadata": {
        "id": "CLWI-3cl86A9"
      },
      "execution_count": null,
      "outputs": []
    },
    {
      "cell_type": "markdown",
      "source": [
        "# **KNN CLASSIFIER**"
      ],
      "metadata": {
        "id": "TE-YDXm4M-kI"
      }
    },
    {
      "cell_type": "code",
      "source": [
        "def knn_classifier(X_train, y_train, X_test, y_test, disease, model_name, fold):\n",
        "  classifier = KNeighborsClassifier().fit(X_train, y_train) #KNN Classifier\n",
        "  prediction = classifier.predict(X_test)\n",
        "\n",
        "  accuracy = metrics.accuracy_score(y_test, prediction)\n",
        "  recall = metrics.recall_score(y_test, prediction, average=\"macro\")\n",
        "  precision = metrics.precision_score(y_test, prediction, average=\"macro\")\n",
        "  roc_auc_score = metrics.roc_auc_score(y_test, classifier.predict_proba(X_test)[:, 1])\n",
        "  f1 = metrics.f1_score(y_test, prediction, average='weighted')\n",
        "\n",
        "  # Specificity for binary class\n",
        "  tn, fp, fn, tp = metrics.confusion_matrix(y_test, prediction).ravel()\n",
        "  specificity = tn / (tn + fp)\n",
        "\n",
        "  text_writer(disease, model_name, fold, accuracy, recall, precision, roc_auc_score, f1, [specificity])\n",
        "  csv_writer(disease, model_name, fold, classifier.predict_proba(X_test))\n",
        "\n",
        "  confusion_matrix = metrics.plot_confusion_matrix(classifier, X_test, y_test)\n",
        "  plt.show()\n",
        "\n",
        "  print(\"----------------------------\",\"SVM RBF (Without Age) - Fold \", str(i), \"---------------------------------------\")\n",
        "  print('Accuracy: ', \"%.2f\" % (accuracy*100), \"%\")\n",
        "  print(\"Recall: \", \"%.2f\" % (recall*100), \"%\")\n",
        "  print(\"Precision: \", \"%.2f\" % (precision*100), \"%\")\n",
        "  print(\"ROC AUC Score: \", \"%.2f\" % (roc_auc_score*100), \"%\")\n",
        "  print('F1: ', \"%.2f\" % (f1*100), \"%\")\n",
        "  print(\"Specificity: \", \"%.2f\" % (specificity*100), \"%\")\n",
        "  print(\"-------------------------------------------------------------------------------------------------\")"
      ],
      "metadata": {
        "id": "m3G9YfGKK2MW"
      },
      "execution_count": null,
      "outputs": []
    },
    {
      "cell_type": "markdown",
      "source": [
        "# **RANDOM FOREST MULTI CLASSIFIER**"
      ],
      "metadata": {
        "id": "Gpt_ZEVnO4a6"
      }
    },
    {
      "cell_type": "code",
      "source": [
        "def rf_multi_classifier(X_train, y_train, X_test, y_test, disease, model_name, fold):\n",
        "  classifier = RandomForestClassifier().fit(X_train, y_train) #Random Forest Classifier\n",
        "  prediction = classifier.predict(X_test)\n",
        "\n",
        "  accuracy = metrics.accuracy_score(y_test, prediction)\n",
        "  recall = metrics.recall_score(y_test, prediction, average=\"macro\")\n",
        "  precision = metrics.precision_score(y_test, prediction, average=\"macro\")\n",
        "  roc_auc_score = metrics.roc_auc_score(y_test, classifier.predict_proba(X_test), multi_class=\"ovr\")\n",
        "  f1 = metrics.f1_score(y_test, prediction, average='weighted')\n",
        "\n",
        "  # Specificity for Multiclass\n",
        "  first_cm, second_cm, third_cm = confusion_matrix_processor(metrics.confusion_matrix(y_test, prediction))\n",
        "  first_specificity = first_cm[1] / (first_cm[1] + first_cm[2])\n",
        "  second_specificity = second_cm[1] / (second_cm[1] + second_cm[2])\n",
        "  third_specificity = third_cm[1] / (third_cm[1] + third_cm[2])\n",
        "\n",
        "  text_writer(disease, model_name, fold, accuracy, recall, precision, roc_auc_score, f1, [first_specificity, second_specificity, third_specificity])\n",
        "  csv_writer(disease, model_name, fold, classifier.predict_proba(X_test))\n",
        "\n",
        "  confusion_matrix = metrics.plot_confusion_matrix(classifier, X_test, y_test)\n",
        "  plt.show()\n",
        "\n",
        "  print(\"----------------------------\",\"Random Forest (Without Age) - Fold \", str(i), \"---------------------------------------\")\n",
        "  print('Accuracy: ', \"%.2f\" % (accuracy*100), \"%\")\n",
        "  print(\"Recall: \", \"%.2f\" % (recall*100), \"%\")\n",
        "  print(\"Precision: \", \"%.2f\" % (precision*100), \"%\")\n",
        "  print(\"ROC AUC Score: \", \"%.2f\" % (roc_auc_score*100), \"%\")\n",
        "  print('F1: ', \"%.2f\" % (f1*100), \"%\")\n",
        "  print(\"First label Specificity: \", \"%.2f\" % (first_specificity*100), \"%\")\n",
        "  print(\"Second label Specificity: \", \"%.2f\" % (second_specificity*100), \"%\")\n",
        "  print(\"Third label Specificity: \", \"%.2f\" % (third_specificity*100), \"%\")\n",
        "  print(\"-------------------------------------------------------------------------------------------------\")"
      ],
      "metadata": {
        "id": "9YFtLzNfO76Q"
      },
      "execution_count": null,
      "outputs": []
    },
    {
      "cell_type": "markdown",
      "source": [
        "# **RANDOM FOREST CLASSIFIER**"
      ],
      "metadata": {
        "id": "L_B2-hL8PDFW"
      }
    },
    {
      "cell_type": "code",
      "source": [
        "def rf_classifier(X_train, y_train, X_test, y_test, disease, model_name, fold):\n",
        "  classifier = RandomForestClassifier().fit(X_train, y_train) #KNN Classifier\n",
        "  prediction = classifier.predict(X_test)\n",
        "\n",
        "  accuracy = metrics.accuracy_score(y_test, prediction)\n",
        "  recall = metrics.recall_score(y_test, prediction, average=\"macro\")\n",
        "  precision = metrics.precision_score(y_test, prediction, average=\"macro\")\n",
        "  roc_auc_score = metrics.roc_auc_score(y_test, classifier.predict_proba(X_test)[:, 1])\n",
        "  f1 = metrics.f1_score(y_test, prediction, average='weighted')\n",
        "\n",
        "  # Specificity for binary class\n",
        "  tn, fp, fn, tp = metrics.confusion_matrix(y_test, prediction).ravel()\n",
        "  specificity = tn / (tn + fp)\n",
        "\n",
        "  text_writer(disease, model_name, fold, accuracy, recall, precision, roc_auc_score, f1, [specificity])\n",
        "  csv_writer(disease, model_name, fold, classifier.predict_proba(X_test))\n",
        "\n",
        "  confusion_matrix = metrics.plot_confusion_matrix(classifier, X_test, y_test)\n",
        "  plt.show()\n",
        "\n",
        "  print(\"----------------------------\",\"Random Forest (Without Age) - Fold \", str(i), \"---------------------------------------\")\n",
        "  print('Accuracy: ', \"%.2f\" % (accuracy*100), \"%\")\n",
        "  print(\"Recall: \", \"%.2f\" % (recall*100), \"%\")\n",
        "  print(\"Precision: \", \"%.2f\" % (precision*100), \"%\")\n",
        "  print(\"ROC AUC Score: \", \"%.2f\" % (roc_auc_score*100), \"%\")\n",
        "  print('F1: ', \"%.2f\" % (f1*100), \"%\")\n",
        "  print(\"Specificity: \", \"%.2f\" % (specificity*100), \"%\")\n",
        "  print(\"-------------------------------------------------------------------------------------------------\")"
      ],
      "metadata": {
        "id": "n4WnnLJbPHW_"
      },
      "execution_count": null,
      "outputs": []
    },
    {
      "cell_type": "markdown",
      "source": [
        "# **MAIN LOOPING - OUTPUT**"
      ],
      "metadata": {
        "id": "beIRqG93R_jO"
      }
    },
    {
      "cell_type": "code",
      "source": [
        "disease = \"SZ\" # same as directory under google drive\n",
        "model_name = \"Random Forest\" # the folder under disease folder\n",
        "base_dir = \"/content/drive/MyDrive/Dataset/Alzheimer's and Schizophrenia/Dataset/\" + disease + \"/Folds/\"\n",
        "\n",
        "for i in range(1, 6):\n",
        "  current_test = base_dir + \"test_\" + str(i) + \".csv\"\n",
        "  current_train = base_dir + \"train_\" + str(i) + \".csv\"\n",
        "\n",
        "  X_train = []\n",
        "  y_train = []\n",
        "  X_test = []\n",
        "  y_test = []\n",
        "\n",
        "  with open(current_train, newline='') as f:\n",
        "    reader = csv.reader(f)\n",
        "    \n",
        "    for row in reader:\n",
        "      X_train.append(row[0:13])\n",
        "      y_train.append(row[-1])\n",
        "\n",
        "  with open(current_test, newline='') as f:\n",
        "    reader = csv.reader(f)\n",
        "    \n",
        "    for row in reader:\n",
        "      X_test.append(row[0:13])\n",
        "      y_test.append(row[-1])\n",
        "\n",
        "  \n",
        "  rf_classifier(X_train, y_train, X_test, y_test, disease, model_name, i)"
      ],
      "metadata": {
        "id": "7GRvLVu1CJ9w"
      },
      "execution_count": null,
      "outputs": []
    }
  ]
}