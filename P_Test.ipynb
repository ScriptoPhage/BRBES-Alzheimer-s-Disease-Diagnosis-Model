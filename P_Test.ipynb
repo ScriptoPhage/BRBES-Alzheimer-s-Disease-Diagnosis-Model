{
  "nbformat": 4,
  "nbformat_minor": 0,
  "metadata": {
    "colab": {
      "name": "P Test",
      "provenance": []
    },
    "kernelspec": {
      "name": "python3",
      "display_name": "Python 3"
    },
    "language_info": {
      "name": "python"
    }
  },
  "cells": [
    {
      "cell_type": "code",
      "source": [
        "alpha = 0.05\n",
        "BRBES =[0.29, 0.39, 0.35, 0.35, 0.36]\n",
        "second_test=[0.50, 0.40, 0.48, 0.49, 0.49]"
      ],
      "metadata": {
        "id": "tQwVcwDN7ULv"
      },
      "execution_count": null,
      "outputs": []
    },
    {
      "cell_type": "code",
      "source": [
        "from scipy import stats\n",
        "\n",
        "t_value,p_value=stats.ttest_rel(first_test,second_test)\n",
        "\n",
        "one_tailed_p_value=float(\"{:.6f}\".format(p_value/2)) \n",
        "\n",
        "print('Test statistic is %f'%float(\"{:.6f}\".format(t_value)))\n",
        "\n",
        "print('p-value for one_tailed_test is %f'%one_tailed_p_value)\n",
        "\n",
        "alpha = 0.05\n",
        "\n",
        "if one_tailed_p_value<=alpha:\n",
        "\n",
        "    print('Difference between mean performance is probably real')\n",
        "\n",
        "else:\n",
        "\n",
        "    print('Algorithms probably have the same performance')"
      ],
      "metadata": {
        "colab": {
          "base_uri": "https://localhost:8080/"
        },
        "id": "EvBiLDIk-00V",
        "outputId": "f5b97db1-0e4e-4577-d018-93e94979bf50"
      },
      "execution_count": null,
      "outputs": [
        {
          "output_type": "stream",
          "name": "stdout",
          "text": [
            "Test statistic is -2.432792\n",
            "p-value for one_tailed_test is 0.035882\n",
            "Difference between mean performance is probably real\n"
          ]
        }
      ]
    }
  ]
}